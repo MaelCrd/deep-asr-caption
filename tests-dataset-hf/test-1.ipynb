{
 "cells": [
  {
   "cell_type": "code",
   "execution_count": 27,
   "metadata": {},
   "outputs": [
    {
     "data": {
      "application/vnd.jupyter.widget-view+json": {
       "model_id": "532fa0838b184aae8c44af0ba75b9d5b",
       "version_major": 2,
       "version_minor": 0
      },
      "text/plain": [
       "Resolving data files:   0%|          | 0/44 [00:00<?, ?it/s]"
      ]
     },
     "metadata": {},
     "output_type": "display_data"
    },
    {
     "data": {
      "application/vnd.jupyter.widget-view+json": {
       "model_id": "5fb0999bbd774daba5a55f391bfcfbdf",
       "version_major": 2,
       "version_minor": 0
      },
      "text/plain": [
       "Resolving data files:   0%|          | 0/64 [00:00<?, ?it/s]"
      ]
     },
     "metadata": {},
     "output_type": "display_data"
    }
   ],
   "source": [
    "from datasets import load_dataset\n",
    "\n",
    "dataset = load_dataset(\"nguyenvulebinh/asr-alignment\", \"libris\", streaming=True)\n",
    "# dataset = load_dataset(\"nguyenvulebinh/asr-alignment\", \"gigaspeech\", streaming=True)\n",
    "# take the first sample of the validation set\n",
    "iterator = iter(dataset[\"valid\"])\n",
    "sample = next(iterator)"
   ]
  },
  {
   "cell_type": "code",
   "execution_count": 28,
   "metadata": {},
   "outputs": [
    {
     "name": "stdout",
     "output_type": "stream",
     "text": [
      "{'id': '6930-75918-0000', 'text': 'Concord returned to its place amidst the tents.', 'audio': {'path': '6930-75918-0000.flac', 'array': array([-6.10351562e-05,  9.15527344e-05,  1.06811523e-03, ...,\n",
      "       -2.19726562e-03, -1.13830566e-02, -8.81958008e-03]), 'sampling_rate': 16000}, 'words': ['Concord', 'returned', 'to', 'its', 'place', 'amidst', 'the', 'tents.'], 'word_start': [0.0, 1.1617, 1.6424, 1.7225, 1.9028, 2.2833, 2.6638, 2.8241], 'word_end': [1.1617, 1.6424, 1.7225, 1.9028, 2.2833, 2.6638, 2.8241, 3.485], 'entity_start': [0], 'entity_end': [7], 'entity_label': ['ORG']}\n",
      "{'id': '6930-75918-0001', 'text': 'The English forwarded to the French baskets of flowers, of which they had made a plentiful provision to greet the arrival of the young princess. The French, in return, invited the English to a supper which was to be given the next day.', 'audio': {'path': '6930-75918-0001.flac', 'array': array([-0.00570679, -0.00732422,  0.00512695, ...,  0.00085449,\n",
      "        0.0007019 ,  0.00067139]), 'sampling_rate': 16000}, 'words': ['The', 'English', 'forwarded', 'to', 'the', 'French', 'baskets', 'of', 'flowers,', 'of', 'which', 'they', 'had', 'made', 'a', 'plentiful', 'provision', 'to', 'greet', 'the', 'arrival', 'of', 'the', 'young', 'princess.', 'The', 'French,', 'in', 'return,', 'invited', 'the', 'English', 'to', 'a', 'supper', 'which', 'was', 'to', 'be', 'given', 'the', 'next', 'day.'], 'word_start': [0.0, 0.3802, 0.8604, 1.3205, 1.5006, 1.6806, 2.0808, 2.621, 2.721, 3.2212, 3.4613, 3.7214, 3.8814, 4.1015, 4.3216, 4.3816, 4.8818, 5.462, 5.602, 5.9021, 6.0422, 6.6024, 6.8224, 6.9825, 7.2826, 8.1429, 8.523, 9.0232, 9.2033, 9.7035, 10.2437, 10.4037, 10.7838, 10.9239, 11.0439, 11.6641, 12.1043, 12.2844, 12.3844, 12.5245, 13.0046, 13.2847, 13.6448], 'word_end': [0.3802, 0.8604, 1.3205, 1.5006, 1.6806, 2.0808, 2.621, 2.721, 3.2212, 3.4613, 3.7214, 3.8814, 4.1015, 4.3216, 4.3816, 4.8818, 5.462, 5.602, 5.9021, 6.0422, 6.6024, 6.8224, 6.9825, 7.2826, 8.1429, 8.523, 9.0232, 9.2033, 9.7035, 10.2437, 10.4037, 10.7838, 10.9239, 11.0439, 11.6641, 12.1043, 12.2844, 12.3844, 12.5245, 13.0046, 13.2847, 13.6448, 14.205], 'entity_start': [4, 29, 149, 180, 222], 'entity_end': [11, 35, 155, 187, 234], 'entity_label': ['LANGUAGE', 'NORP', 'NORP', 'LANGUAGE', 'DATE']}\n",
      "{'id': '6930-75918-0002', 'text': 'Congratulations were poured in upon the princess everywhere during her journey.', 'audio': {'path': '6930-75918-0002.flac', 'array': array([ 0.00091553,  0.00115967,  0.0010376 , ...,  0.00531006,\n",
      "       -0.00634766, -0.00198364]), 'sampling_rate': 16000}, 'words': ['Congratulations', 'were', 'poured', 'in', 'upon', 'the', 'princess', 'everywhere', 'during', 'her', 'journey.'], 'word_start': [0.0, 1.3414, 1.5216, 1.9019, 2.1622, 2.5226, 2.6427, 3.1232, 3.8239, 4.2042, 4.4245], 'word_end': [1.3414, 1.5216, 1.9019, 2.1622, 2.5226, 2.6427, 3.1232, 3.8239, 4.2042, 4.4245, 5.005], 'entity_start': [], 'entity_end': [], 'entity_label': []}\n",
      "{'id': '6930-75918-0003', 'text': 'From the respect paid her on all sides, she seemed like a queen, and from the adoration with which she was treated by two or three, she appeared an object of worship. the Queen Mother gave the French the most affectionate reception. France was her native country, and she had suffered too much unhappiness in England for England to have made her forget France.', 'audio': {'path': '6930-75918-0003.flac', 'array': array([ 0.00326538, -0.0027771 , -0.00146484, ...,  0.01327515,\n",
      "        0.00387573, -0.01300049]), 'sampling_rate': 16000}, 'words': ['From', 'the', 'respect', 'paid', 'her', 'on', 'all', 'sides,', 'she', 'seemed', 'like', 'a', 'queen,', 'and', 'from', 'the', 'adoration', 'with', 'which', 'she', 'was', 'treated', 'by', 'two', 'or', 'three,', 'she', 'appeared', 'an', 'object', 'of', 'worship.', 'the', 'Queen', 'Mother', 'gave', 'the', 'French', 'the', 'most', 'affectionate', 'reception.', 'France', 'was', 'her', 'native', 'country,', 'and', 'she', 'had', 'suffered', 'too', 'much', 'unhappiness', 'in', 'England', 'for', 'England', 'to', 'have', 'made', 'her', 'forget', 'France.'], 'word_start': [0.0, 0.3403, 0.4603, 0.9607, 1.3609, 1.6011, 1.8412, 2.1414, 2.8819, 3.1621, 3.5623, 3.8025, 3.8825, 4.5029, 4.9032, 5.1434, 5.3435, 6.184, 6.4842, 6.8244, 7.0046, 7.2247, 7.625, 7.8651, 8.2253, 8.4455, 9.0459, 9.3861, 9.9064, 10.1466, 10.6469, 10.867, 11.5075, 11.8277, 12.2279, 12.6282, 13.0284, 13.1685, 13.5488, 13.7089, 14.0291, 14.6295, 15.3699, 15.9303, 16.1104, 16.2505, 16.5707, 17.2511, 17.7915, 17.9716, 18.1918, 18.592, 18.8322, 19.0923, 19.7528, 19.9329, 20.3531, 20.5733, 21.0136, 21.1737, 21.4338, 21.734, 21.9141, 22.3544], 'word_end': [0.3403, 0.4603, 0.9607, 1.3609, 1.6011, 1.8412, 2.1414, 2.8819, 3.1621, 3.5623, 3.8025, 3.8825, 4.5029, 4.9032, 5.1434, 5.3435, 6.184, 6.4842, 6.8244, 7.0046, 7.2247, 7.625, 7.8651, 8.2253, 8.4455, 9.0459, 9.3861, 9.9064, 10.1466, 10.6469, 10.867, 11.5075, 11.8277, 12.2279, 12.6282, 13.0284, 13.1685, 13.5488, 13.7089, 14.0291, 14.6295, 15.3699, 15.9303, 16.1104, 16.2505, 16.5707, 17.2511, 17.7915, 17.9716, 18.1918, 18.592, 18.8322, 19.0923, 19.7528, 19.9329, 20.3531, 20.5733, 21.0136, 21.1737, 21.4338, 21.734, 21.9141, 22.3544, 23.295], 'entity_start': [118, 125, 193, 233, 309, 321, 353], 'entity_end': [121, 130, 199, 239, 316, 328, 359], 'entity_label': ['CARDINAL', 'CARDINAL', 'NORP', 'GPE', 'GPE', 'GPE', 'GPE']}\n",
      "{'id': '6930-75918-0004', 'text': 'She taught her daughter then by her own affection for it, that love for a country where they had both been hospitably received, and where a brilliant future opened before them.', 'audio': {'path': '6930-75918-0004.flac', 'array': array([-0.00881958, -0.00198364,  0.00518799, ...,  0.00390625,\n",
      "       -0.00436401, -0.00341797]), 'sampling_rate': 16000}, 'words': ['She', 'taught', 'her', 'daughter', 'then', 'by', 'her', 'own', 'affection', 'for', 'it,', 'that', 'love', 'for', 'a', 'country', 'where', 'they', 'had', 'both', 'been', 'hospitably', 'received,', 'and', 'where', 'a', 'brilliant', 'future', 'opened', 'before', 'them.'], 'word_start': [0.0, 0.6003, 0.9005, 1.0805, 1.6008, 2.181, 2.5412, 2.7813, 3.0814, 3.6017, 3.8818, 4.0619, 4.342, 4.6822, 4.8622, 4.9423, 5.4625, 5.7426, 5.8827, 6.0828, 6.4029, 6.583, 7.2233, 7.9636, 8.2838, 8.4839, 8.6039, 9.3243, 9.8245, 10.2447, 10.4648], 'word_end': [0.6003, 0.9005, 1.0805, 1.6008, 2.181, 2.5412, 2.7813, 3.0814, 3.6017, 3.8818, 4.0619, 4.342, 4.6822, 4.8622, 4.9423, 5.4625, 5.7426, 5.8827, 6.0828, 6.4029, 6.583, 7.2233, 7.9636, 8.2838, 8.4839, 8.6039, 9.3243, 9.8245, 10.2247, 10.4648, 11.045], 'entity_start': [], 'entity_end': [], 'entity_label': []}\n",
      "{'id': '6930-75918-0005', 'text': 'The count had thrown himself back on his seat, leaning his shoulders against the partition of the tent, and remained thus, his face buried in his hands, with heaving chest and restless limbs.', 'audio': {'path': '6930-75918-0005.flac', 'array': array([ 0.00057983, -0.00408936, -0.01113892, ...,  0.0010376 ,\n",
      "        0.00057983, -0.00115967]), 'sampling_rate': 16000}, 'words': ['The', 'count', 'had', 'thrown', 'himself', 'back', 'on', 'his', 'seat,', 'leaning', 'his', 'shoulders', 'against', 'the', 'partition', 'of', 'the', 'tent,', 'and', 'remained', 'thus,', 'his', 'face', 'buried', 'in', 'his', 'hands,', 'with', 'heaving', 'chest', 'and', 'restless', 'limbs.'], 'word_start': [0.0, 0.3606, 0.7412, 0.9415, 1.5023, 2.0632, 2.4438, 2.584, 2.8043, 3.3251, 3.906, 4.0662, 4.4869, 4.8274, 4.9275, 5.5084, 5.6286, 5.7888, 6.1895, 6.4098, 6.9306, 7.4914, 7.9121, 8.4529, 8.9537, 9.0538, 9.2341, 9.835, 10.2556, 10.7364, 11.3573, 11.6978, 12.2186], 'word_end': [0.3606, 0.7412, 0.9415, 1.5023, 2.0632, 2.4438, 2.584, 2.8043, 3.3251, 3.906, 4.0662, 4.4869, 4.8274, 4.9275, 5.5084, 5.6286, 5.7888, 6.1895, 6.4098, 6.9306, 7.4914, 7.9121, 8.4529, 8.9537, 9.0538, 9.2341, 9.835, 10.2556, 10.7364, 11.3573, 11.6978, 12.2186, 13.14], 'entity_start': [], 'entity_end': [], 'entity_label': []}\n",
      "{'id': '6930-75918-0006', 'text': 'This has indeed been a harassing day, continued the young man, his eyes fixed upon his friend.', 'audio': {'path': '6930-75918-0006.flac', 'array': array([-0.00704956, -0.00784302, -0.00015259, ..., -0.01657104,\n",
      "       -0.00085449,  0.0151062 ]), 'sampling_rate': 16000}, 'words': ['This', 'has', 'indeed', 'been', 'a', 'harassing', 'day,', 'continued', 'the', 'young', 'man,', 'his', 'eyes', 'fixed', 'upon', 'his', 'friend.'], 'word_start': [0.0, 0.6812, 1.0218, 1.5227, 1.743, 1.8232, 2.4242, 2.7447, 3.3057, 3.4259, 3.6663, 3.9468, 4.1872, 4.5078, 4.8884, 5.1489, 5.3292], 'word_end': [0.6812, 1.0218, 1.5227, 1.743, 1.8232, 2.4242, 2.7447, 3.3057, 3.4259, 3.6663, 3.9468, 4.1872, 4.5078, 4.8884, 5.1489, 5.3292, 5.83], 'entity_start': [21], 'entity_end': [36], 'entity_label': ['DATE']}\n",
      "{'id': '6930-75918-0007', 'text': 'You will be frank with me. I always am.', 'audio': {'path': '6930-75918-0007.flac', 'array': array([-4.91333008e-03,  2.56347656e-03,  8.51440430e-03, ...,\n",
      "       -1.52587891e-03, -9.46044922e-04, -6.10351562e-05]), 'sampling_rate': 16000}, 'words': ['You', 'will', 'be', 'frank', 'with', 'me.', 'I', 'always', 'am.'], 'word_start': [0.0, 0.5224, 0.6831, 0.864, 1.2055, 1.3863, 1.8283, 2.2301, 2.5315], 'word_end': [0.5023, 0.6831, 0.864, 1.2055, 1.3863, 1.8283, 2.2301, 2.5315, 3.295], 'entity_start': [], 'entity_end': [], 'entity_label': []}\n",
      "{'id': '6930-75918-0008', 'text': 'Can you imagine why Buckingham has been so violent? I suspect.', 'audio': {'path': '6930-75918-0008.flac', 'array': array([-1.22070312e-04,  6.40869141e-04, -2.44140625e-04, ...,\n",
      "        6.10351562e-05,  1.52587891e-03,  8.54492188e-04]), 'sampling_rate': 16000}, 'words': ['Can', 'you', 'imagine', 'why', 'Buckingham', 'has', 'been', 'so', 'violent?', 'I', 'suspect.'], 'word_start': [0.0, 0.6808, 0.8009, 1.2814, 1.4816, 2.0622, 2.2624, 2.4626, 2.6228, 3.4036, 3.7039], 'word_end': [0.6808, 0.8009, 1.2814, 1.4816, 2.0622, 2.2624, 2.4626, 2.6228, 3.4036, 3.7039, 4.765], 'entity_start': [20], 'entity_end': [30], 'entity_label': ['PERSON']}\n",
      "{'id': '6930-75918-0009', 'text': 'It is you who are mistaken, Raoul. I have read his distress in his eyes in his every gesture and action the whole day.', 'audio': {'path': '6930-75918-0009.flac', 'array': array([0.00036621, 0.00030518, 0.00363159, ..., 0.0045166 , 0.00668335,\n",
      "       0.00094604]), 'sampling_rate': 16000}, 'words': ['It', 'is', 'you', 'who', 'are', 'mistaken,', 'Raoul.', 'I', 'have', 'read', 'his', 'distress', 'in', 'his', 'eyes', 'in', 'his', 'every', 'gesture', 'and', 'action', 'the', 'whole', 'day.'], 'word_start': [0.0, 0.5014, 0.6619, 0.8624, 1.0229, 1.1632, 1.7047, 2.1259, 2.2663, 2.5069, 2.8078, 2.9883, 3.5097, 3.61, 3.8306, 4.2317, 4.4523, 4.6729, 4.9938, 5.4951, 5.7158, 6.1369, 6.2974, 6.6383], 'word_end': [0.5014, 0.6619, 0.8624, 1.0229, 1.1632, 1.7047, 2.1259, 2.2663, 2.5069, 2.8078, 2.9883, 3.5097, 3.61, 3.8306, 4.2317, 4.4523, 4.6729, 4.9938, 5.4951, 5.7158, 6.1369, 6.2974, 6.6383, 7.26], 'entity_start': [28, 104], 'entity_end': [33, 117], 'entity_label': ['PERSON', 'DATE']}\n",
      "{'id': '6930-75918-0010', 'text': 'I can perceive love clearly enough.', 'audio': {'path': '6930-75918-0010.flac', 'array': array([-0.00149536,  0.00073242,  0.00259399, ..., -0.00863647,\n",
      "       -0.00738525, -0.00491333]), 'sampling_rate': 16000}, 'words': ['I', 'can', 'perceive', 'love', 'clearly', 'enough.'], 'word_start': [0.0, 0.5427, 0.7236, 1.2462, 1.7487, 2.2914], 'word_end': [0.5427, 0.7236, 1.2462, 1.7487, 2.2914, 3.015], 'entity_start': [], 'entity_end': [], 'entity_label': []}\n",
      "{'id': '6930-75918-0011', 'text': 'I am convinced of what I say, said the count.', 'audio': {'path': '6930-75918-0011.flac', 'array': array([ 0.00030518, -0.00250244,  0.00338745, ...,  0.00814819,\n",
      "        0.00311279,  0.00302124]), 'sampling_rate': 16000}, 'words': ['I', 'am', 'convinced', 'of', 'what', 'I', 'say,', 'said', 'the', 'count.'], 'word_start': [0.0, 0.3617, 0.4823, 1.1655, 1.2861, 1.5272, 1.6277, 2.11, 2.4315, 2.5319], 'word_end': [0.3617, 0.4823, 1.1655, 1.2861, 1.5272, 1.6277, 2.11, 2.4315, 2.5319, 3.175], 'entity_start': [], 'entity_end': [], 'entity_label': []}\n",
      "{'id': '6930-75918-0012', 'text': 'It is annoyance then.', 'audio': {'path': '6930-75918-0012.flac', 'array': array([0.00579834, 0.02081299, 0.00256348, ..., 0.00030518, 0.00033569,\n",
      "       0.00030518]), 'sampling_rate': 16000}, 'words': ['It', 'is', 'annoyance', 'then.'], 'word_start': [0.0, 0.6467, 0.768, 1.4146], 'word_end': [0.6467, 0.768, 1.3944, 1.9198], 'entity_start': [], 'entity_end': [], 'entity_label': []}\n",
      "{'id': '6930-75918-0013', 'text': 'In those very terms, I even added more.', 'audio': {'path': '6930-75918-0013.flac', 'array': array([-3.96728516e-04, -3.96728516e-04, -3.66210938e-04, ...,\n",
      "        5.49316406e-04, -8.85009766e-04,  9.15527344e-05]), 'sampling_rate': 16000}, 'words': ['In', 'those', 'very', 'terms,', 'I', 'even', 'added', 'more.'], 'word_start': [0.0, 0.4431, 0.7854, 1.0673, 1.5506, 1.6916, 2.0339, 2.3762], 'word_end': [0.4431, 0.7854, 1.0673, 1.5506, 1.6916, 2.0339, 2.3762, 2.9199], 'entity_start': [], 'entity_end': [], 'entity_label': []}\n",
      "{'id': '6930-75918-0014', 'text': 'But continued Raoul, not interrupted by this movement of his friend, Heaven be praised, the French, who are pronounced to be thoughtless and indiscreet, reckless, even are capable of bringing a calm and sound judgment to bear on matters of such high importance.', 'audio': {'path': '6930-75918-0014.flac', 'array': array([ 0.00558472, -0.00793457, -0.01190186, ...,  0.0005188 ,\n",
      "        0.00015259,  0.0045166 ]), 'sampling_rate': 16000}, 'words': ['But', 'continued', 'Raoul,', 'not', 'interrupted', 'by', 'this', 'movement', 'of', 'his', 'friend,', 'Heaven', 'be', 'praised,', 'the', 'French,', 'who', 'are', 'pronounced', 'to', 'be', 'thoughtless', 'and', 'indiscreet,', 'reckless,', 'even', 'are', 'capable', 'of', 'bringing', 'a', 'calm', 'and', 'sound', 'judgment', 'to', 'bear', 'on', 'matters', 'of', 'such', 'high', 'importance.'], 'word_start': [0.0, 1.1214, 1.9424, 2.443, 2.8835, 3.4041, 3.5643, 3.7445, 4.0849, 4.205, 4.3853, 4.8658, 5.4065, 5.5466, 6.1073, 6.2675, 6.8282, 7.1686, 7.3688, 8.0096, 8.1297, 8.3099, 8.8506, 9.0308, 9.7516, 10.3123, 10.8329, 11.1533, 11.6739, 11.7941, 12.2146, 12.3347, 12.7752, 12.9554, 13.3159, 13.8165, 13.9566, 14.2169, 14.3771, 14.8577, 15.0579, 15.3583, 15.7588], 'word_end': [1.1214, 1.9424, 2.443, 2.8835, 3.4041, 3.5643, 3.7445, 4.0849, 4.205, 4.3853, 4.8658, 5.4065, 5.5466, 6.1073, 6.2675, 6.8282, 7.1686, 7.3688, 8.0096, 8.1297, 8.3099, 8.8506, 9.0308, 9.7516, 10.3123, 10.8329, 11.1533, 11.6739, 11.7941, 12.2146, 12.3347, 12.7752, 12.9554, 13.3159, 13.8165, 13.9566, 14.2169, 14.3771, 14.8577, 15.0579, 15.3583, 15.7588, 16.82], 'entity_start': [14, 92], 'entity_end': [19, 98], 'entity_label': ['PERSON', 'NORP']}\n",
      "{'id': '6930-75918-0015', 'text': \"Thus it is that the honor of three is saved, our country's, our master's and our own.\", 'audio': {'path': '6930-75918-0015.flac', 'array': array([-0.0010376 ,  0.00488281,  0.0045166 , ...,  0.00091553,\n",
      "        0.0039978 ,  0.00405884]), 'sampling_rate': 16000}, 'words': ['Thus', 'it', 'is', 'that', 'the', 'honor', 'of', 'three', 'is', 'saved,', 'our', \"country's,\", 'our', \"master's\", 'and', 'our', 'own.'], 'word_start': [0.0, 1.0634, 1.4245, 1.565, 1.8057, 1.9863, 2.4277, 2.6082, 3.0295, 3.2302, 3.7518, 3.9524, 4.5543, 4.755, 5.3568, 5.5775, 5.7982], 'word_end': [1.0634, 1.4245, 1.565, 1.8057, 1.9863, 2.4277, 2.6082, 3.0295, 3.2302, 3.7518, 3.9524, 4.5543, 4.755, 5.3568, 5.5775, 5.7982, 6.36], 'entity_start': [29], 'entity_end': [34], 'entity_label': ['CARDINAL']}\n",
      "{'id': '6930-75918-0016', 'text': 'Yes, I need repose. Many things have agitated me to day both in mind and body. When you return to morrow, I shall no longer be the same man.', 'audio': {'path': '6930-75918-0016.flac', 'array': array([ 0.00000000e+00, -2.13623047e-04, -6.10351562e-05, ...,\n",
      "        2.47192383e-03,  1.80053711e-03,  1.83105469e-04]), 'sampling_rate': 16000}, 'words': ['Yes,', 'I', 'need', 'repose.', 'Many', 'things', 'have', 'agitated', 'me', 'to', 'day', 'both', 'in', 'mind', 'and', 'body.', 'When', 'you', 'return', 'to', 'morrow,', 'I', 'shall', 'no', 'longer', 'be', 'the', 'same', 'man.'], 'word_start': [0.0, 0.8413, 1.0616, 1.302, 1.943, 2.3436, 2.7642, 2.9645, 3.5454, 3.6655, 3.7857, 4.0461, 4.4267, 4.5669, 5.0075, 5.2679, 5.8488, 6.3095, 6.4297, 6.8103, 6.9304, 7.331, 7.4913, 7.7116, 7.8919, 8.4127, 8.6931, 8.8733, 9.2139], 'word_end': [0.8413, 1.0616, 1.302, 1.943, 2.3436, 2.7642, 2.9645, 3.5454, 3.6655, 3.7857, 4.0461, 4.4267, 4.5669, 5.0075, 5.2679, 5.8488, 6.3095, 6.4297, 6.8103, 6.9304, 7.331, 7.4913, 7.7116, 7.8919, 8.4127, 8.6931, 8.8733, 9.2139, 9.995], 'entity_start': [98], 'entity_end': [104], 'entity_label': ['DATE']}\n",
      "{'id': '6930-75918-0017', 'text': 'But in this friendly pressure, Raoul could detect the nervous agitation of a great internal conflict.', 'audio': {'path': '6930-75918-0017.flac', 'array': array([ 0.01065063,  0.00195312, -0.00021362, ..., -0.00033569,\n",
      "       -0.00039673, -0.00039673]), 'sampling_rate': 16000}, 'words': ['But', 'in', 'this', 'friendly', 'pressure,', 'Raoul', 'could', 'detect', 'the', 'nervous', 'agitation', 'of', 'a', 'great', 'internal', 'conflict.'], 'word_start': [0.0, 0.4014, 0.5619, 0.7625, 1.1438, 1.6855, 2.0668, 2.2674, 2.6486, 2.769, 3.2105, 3.9128, 4.0733, 4.1937, 4.6752, 5.2972], 'word_end': [0.4014, 0.5619, 0.7625, 1.1438, 1.6855, 2.0668, 2.2674, 2.6486, 2.769, 3.2105, 3.9128, 4.0733, 4.1937, 4.6752, 5.2972, 6.14], 'entity_start': [31], 'entity_end': [36], 'entity_label': ['PERSON']}\n",
      "{'id': '6930-75918-0018', 'text': 'The night was clear, starlit and splendid. The tempest had passed away, and the sweet influences of the evening had restored life peace and security everywhere.', 'audio': {'path': '6930-75918-0018.flac', 'array': array([-0.00045776, -0.00036621, -0.00042725, ..., -0.01327515,\n",
      "       -0.01956177, -0.00708008]), 'sampling_rate': 16000}, 'words': ['The', 'night', 'was', 'clear,', 'starlit', 'and', 'splendid.', 'The', 'tempest', 'had', 'passed', 'away,', 'and', 'the', 'sweet', 'influences', 'of', 'the', 'evening', 'had', 'restored', 'life', 'peace', 'and', 'security', 'everywhere.'], 'word_start': [0.0, 0.4004, 0.7007, 0.8809, 1.3213, 2.0019, 2.2822, 3.0829, 3.3431, 3.8036, 3.9837, 4.3841, 4.8045, 4.9847, 5.1448, 5.5452, 6.3259, 6.5061, 6.6662, 7.0466, 7.2267, 7.9274, 8.5279, 9.0684, 9.2086, 9.8492], 'word_end': [0.4004, 0.7007, 0.8809, 1.3213, 2.0019, 2.2822, 3.0829, 3.3431, 3.8036, 3.9837, 4.3841, 4.8045, 4.9847, 5.1448, 5.5452, 6.3259, 6.5061, 6.6662, 7.0466, 7.2267, 7.9274, 8.5279, 9.0684, 9.2086, 9.8492, 10.79], 'entity_start': [0], 'entity_end': [9], 'entity_label': ['TIME']}\n",
      "{'id': '6930-75918-0019', 'text': 'Upon the large square in front of the hotel, the shadows of the tents intersected by the golden moonbeams, formed, as it were a huge mosaic of jet and yellow flagstones.', 'audio': {'path': '6930-75918-0019.flac', 'array': array([ 0.00592041,  0.00170898, -0.00057983, ...,  0.02554321,\n",
      "        0.00076294, -0.02047729]), 'sampling_rate': 16000}, 'words': ['Upon', 'the', 'large', 'square', 'in', 'front', 'of', 'the', 'hotel,', 'the', 'shadows', 'of', 'the', 'tents', 'intersected', 'by', 'the', 'golden', 'moonbeams,', 'formed,', 'as', 'it', 'were', 'a', 'huge', 'mosaic', 'of', 'jet', 'and', 'yellow', 'flagstones.'], 'word_start': [0.0, 0.8804, 1.0605, 1.4607, 1.8809, 2.0409, 2.3211, 2.4011, 2.5412, 3.1414, 3.3415, 3.8617, 3.9618, 4.1218, 4.562, 5.2423, 5.4024, 5.5825, 6.1027, 7.0431, 7.6034, 7.7634, 7.8835, 8.1836, 8.3437, 8.8439, 9.4041, 9.5642, 9.9844, 10.2045, 10.5446], 'word_end': [0.8804, 1.0605, 1.4607, 1.8809, 2.0409, 2.3211, 2.4011, 2.5412, 3.1414, 3.3415, 3.8617, 3.9618, 4.1218, 4.562, 5.2423, 5.4024, 5.5825, 6.1027, 7.0431, 7.6034, 7.7634, 7.8835, 8.1836, 8.3437, 8.8439, 9.4041, 9.5642, 9.9844, 10.2045, 10.5446, 11.6251], 'entity_start': [85], 'entity_end': [105], 'entity_label': ['FAC']}\n",
      "{'id': '6930-75918-0020', 'text': 'Bragelonne watched for some time the conduct of the two lovers, listened to the loud and uncivil slumbers of Manicamp, who snored as imperiously as though he was wearing his blue and gold instead of his violet suit.', 'audio': {'path': '6930-75918-0020.flac', 'array': array([0.00054932, 0.00054932, 0.00054932, ..., 0.00119019, 0.00436401,\n",
      "       0.00375366]), 'sampling_rate': 16000}, 'words': ['Bragelonne', 'watched', 'for', 'some', 'time', 'the', 'conduct', 'of', 'the', 'two', 'lovers,', 'listened', 'to', 'the', 'loud', 'and', 'uncivil', 'slumbers', 'of', 'Manicamp,', 'who', 'snored', 'as', 'imperiously', 'as', 'though', 'he', 'was', 'wearing', 'his', 'blue', 'and', 'gold', 'instead', 'of', 'his', 'violet', 'suit.'], 'word_start': [0.0, 1.1617, 1.6824, 1.8626, 2.143, 2.6037, 2.8039, 3.3046, 3.4248, 3.565, 3.8654, 4.5063, 4.987, 5.0871, 5.2473, 5.6679, 5.8682, 6.429, 7.0298, 7.2501, 8.1113, 8.4518, 8.9925, 9.2128, 10.0941, 10.4145, 10.6548, 10.775, 10.9352, 11.2557, 11.456, 11.6763, 11.8165, 12.237, 12.6777, 12.7778, 12.958, 13.4587], 'word_end': [1.1617, 1.6824, 1.8626, 2.143, 2.6037, 2.8039, 3.3046, 3.4248, 3.565, 3.8654, 4.5063, 4.987, 5.0871, 5.2473, 5.6679, 5.8682, 6.429, 7.0298, 7.2501, 8.1113, 8.4518, 8.9925, 9.2128, 10.0941, 10.4145, 10.6548, 10.775, 10.9352, 11.2557, 11.456, 11.6763, 11.8165, 12.237, 12.6777, 12.7778, 12.958, 13.4587, 14.38], 'entity_start': [52, 109], 'entity_end': [55, 117], 'entity_label': ['CARDINAL', 'PERSON']}\n",
      "{'id': '6930-76324-0000', 'text': 'Goliath makes another discovery.', 'audio': {'path': '6930-76324-0000.flac', 'array': array([ 0.00045776,  0.00027466,  0.00027466, ..., -0.00115967,\n",
      "       -0.00097656, -0.00109863]), 'sampling_rate': 16000}, 'words': ['Goliath', 'makes', 'another', 'discovery.'], 'word_start': [0.0, 0.9817, 1.4224, 1.8832], 'word_end': [0.9817, 1.4224, 1.8832, 3.005], 'entity_start': [0], 'entity_end': [7], 'entity_label': ['PERSON']}\n",
      "{'id': '6930-76324-0001', 'text': 'They were certainly no nearer the solution of their problem.', 'audio': {'path': '6930-76324-0001.flac', 'array': array([ 0.00268555, -0.00274658, -0.00170898, ...,  0.00283813,\n",
      "        0.00384521,  0.0039978 ]), 'sampling_rate': 16000}, 'words': ['They', 'were', 'certainly', 'no', 'nearer', 'the', 'solution', 'of', 'their', 'problem.'], 'word_start': [0.0, 0.4026, 0.5837, 1.0466, 1.2881, 1.6302, 1.7711, 2.2944, 2.395, 2.556], 'word_end': [0.4026, 0.5837, 1.0466, 1.2881, 1.6302, 1.7711, 2.2944, 2.395, 2.556, 3.1799], 'entity_start': [], 'entity_end': [], 'entity_label': []}\n"
     ]
    }
   ],
   "source": [
    "import json\n",
    "import numpy as np\n",
    "\n",
    "while True:\n",
    "    # print the sample\n",
    "    print(sample)\n",
    "    inp = input(\"Press Enter to continue...\")\n",
    "    if inp == \"s\":\n",
    "        sample['audio']['array'] = sample['audio']['array'].tolist()\n",
    "        with open(f\"{sample['id']}.json\", \"w\") as f:\n",
    "            json.dump(sample, f)\n",
    "    if inp == \"exit\":\n",
    "        break\n",
    "    # get the next sample\n",
    "    sample = next(iterator)"
   ]
  },
  {
   "cell_type": "code",
   "execution_count": null,
   "metadata": {},
   "outputs": [],
   "source": []
  },
  {
   "cell_type": "code",
   "execution_count": 29,
   "metadata": {},
   "outputs": [],
   "source": [
    "# Convert numpy array to audio file\n",
    "import soundfile as sf\n",
    "\n",
    "# sample_filename = \"6930-75918-0002\"\n",
    "sample_filename = \"6930-76324-0000\"\n",
    "\n",
    "with open(sample_filename + \".json\", \"r\") as f:\n",
    "    sample = json.load(f)\n",
    "\n",
    "sample_array = np.array(sample[\"audio\"][\"array\"])\n",
    "\n",
    "sf.write(sample_filename + \".wav\", sample_array, 16000)"
   ]
  },
  {
   "cell_type": "code",
   "execution_count": 30,
   "metadata": {},
   "outputs": [
    {
     "name": "stdout",
     "output_type": "stream",
     "text": [
      "Goliath makes another discovery. \n"
     ]
    }
   ],
   "source": [
    "import time\n",
    "\n",
    "# sample_filename = \"6930-75918-0002\"\n",
    "sample_filename = \"6930-76324-0000\"\n",
    "\n",
    "with open(sample_filename + \".json\", \"r\") as f:\n",
    "    sample = json.load(f)\n",
    "\n",
    "input(\"Press Enter to play the audio...\")\n",
    "import sounddevice as sd\n",
    "sd.play(sample[\"audio\"][\"array\"], 16000)\n",
    "# sd.wait()\n",
    "\n",
    "current_time = 0\n",
    "for i in range(len(sample[\"words\"])):\n",
    "    word = sample[\"words\"][i]\n",
    "    word_start = sample[\"word_start\"][i]\n",
    "    time.sleep(word_start - current_time)\n",
    "    print(word, end=\" \")\n",
    "    if \".\" in word:\n",
    "        print()\n",
    "    current_time = word_start\n",
    "    \n",
    "sd.wait()"
   ]
  }
 ],
 "metadata": {
  "kernelspec": {
   "display_name": "venv",
   "language": "python",
   "name": "python3"
  },
  "language_info": {
   "codemirror_mode": {
    "name": "ipython",
    "version": 3
   },
   "file_extension": ".py",
   "mimetype": "text/x-python",
   "name": "python",
   "nbconvert_exporter": "python",
   "pygments_lexer": "ipython3",
   "version": "3.12.6"
  }
 },
 "nbformat": 4,
 "nbformat_minor": 2
}
